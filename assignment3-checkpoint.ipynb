{
 "cells": [
  {
   "cell_type": "code",
   "execution_count": 3,
   "id": "7b996c12",
   "metadata": {},
   "outputs": [
    {
     "name": "stdout",
     "output_type": "stream",
     "text": [
      "Twinkle, twinkle, little star, \n",
      "\tHow I wonder what you are! \n",
      "\t\tUp above the world so high, \n",
      "\t\tLike a diamond in the sky. \n",
      "Twinkle, twinkle, little star, \n",
      "\tHow I wonder what you are!\n"
     ]
    }
   ],
   "source": [
    "#q1\n",
    "print(\"Twinkle, twinkle, little star, \\n\\tHow I wonder what you are! \\n\\t\\tUp above the world so high, \\n\\t\\tLike a diamond in the sky. \\nTwinkle, twinkle, little star, \\n\\tHow I wonder what you are!\")"
   ]
  },
  {
   "cell_type": "code",
   "execution_count": 4,
   "id": "a353885f",
   "metadata": {},
   "outputs": [
    {
     "name": "stdout",
     "output_type": "stream",
     "text": [
      "3.8.8\n"
     ]
    }
   ],
   "source": [
    "#q2\n",
    "import platform\n",
    "print(platform.python_version())"
   ]
  },
  {
   "cell_type": "code",
   "execution_count": 5,
   "id": "dee1637d",
   "metadata": {},
   "outputs": [
    {
     "name": "stdout",
     "output_type": "stream",
     "text": [
      "Current date and time : \n",
      "2021-10-24 23:55:46\n"
     ]
    }
   ],
   "source": [
    "#q3\n",
    "import datetime\n",
    "now = datetime.datetime.now()\n",
    "print (\"Current date and time : \")\n",
    "print (now.strftime(\"%Y-%m-%d %H:%M:%S\"))"
   ]
  },
  {
   "cell_type": "code",
   "execution_count": 7,
   "id": "3c36a61e",
   "metadata": {},
   "outputs": [
    {
     "name": "stdout",
     "output_type": "stream",
     "text": [
      "enter radius33\n",
      "3419.46\n"
     ]
    }
   ],
   "source": [
    "#q4\n",
    "r=int(input(\"enter radius\"));\n",
    "print(3.14*r*r);"
   ]
  },
  {
   "cell_type": "code",
   "execution_count": 10,
   "id": "529bb0cc",
   "metadata": {},
   "outputs": [
    {
     "name": "stdout",
     "output_type": "stream",
     "text": [
      "enter first namesabir\n",
      "enter last nameMuhammad Sabir\n",
      "Muhammad Sabir sabir\n"
     ]
    }
   ],
   "source": [
    "#q5\n",
    "a=input(\"enter first name\");\n",
    "b=input(\"enter last name\");\n",
    "print(b+\" \"+a);"
   ]
  },
  {
   "cell_type": "code",
   "execution_count": 11,
   "id": "0c845805",
   "metadata": {},
   "outputs": [
    {
     "name": "stdout",
     "output_type": "stream",
     "text": [
      "3\n",
      "4\n",
      "7\n"
     ]
    }
   ],
   "source": [
    "#q6\n",
    "a=int(input());\n",
    "b=int(input());\n",
    "print(a+b);"
   ]
  },
  {
   "cell_type": "code",
   "execution_count": 19,
   "id": "11b089d5",
   "metadata": {},
   "outputs": [
    {
     "name": "stdout",
     "output_type": "stream",
     "text": [
      "enter math marks out of 100234\n",
      "enter english marks out of 100234\n",
      "enter islamiat marks out of 100234\n",
      "enter computer science marks out of 100234\n",
      "enter pst marks out of 100234\n",
      "234.0\n"
     ]
    }
   ],
   "source": [
    "#q7\n",
    "a=int(input(\"enter math marks out of 100\"));\n",
    "b=int(input(\"enter english marks out of 100\"));\n",
    "c=int(input(\"enter islamiat marks out of 100\"));\n",
    "d=int(input(\"enter computer science marks out of 100\"));\n",
    "e=int(input(\"enter pst marks out of 100\"));\n",
    "marks=((a+b+c+d+e)/500)*100;\n",
    "print(marks);\n",
    "\n"
   ]
  },
  {
   "cell_type": "code",
   "execution_count": 21,
   "id": "8a2fc4a2",
   "metadata": {},
   "outputs": [
    {
     "name": "stdout",
     "output_type": "stream",
     "text": [
      "enter a number9\n",
      "odd\n"
     ]
    }
   ],
   "source": [
    "#q8\n",
    "a=int(input(\"enter a number\"));\n",
    "if a%2==0:\n",
    "    print(\"even\");\n",
    "else:\n",
    "    print(\"odd\");"
   ]
  },
  {
   "cell_type": "code",
   "execution_count": 22,
   "id": "e85ce8fe",
   "metadata": {},
   "outputs": [
    {
     "name": "stdout",
     "output_type": "stream",
     "text": [
      "5\n"
     ]
    }
   ],
   "source": [
    "#q9\n",
    "a=[\"alpha\",\"b\",3,5,3]\n",
    "print(len(a));"
   ]
  },
  {
   "cell_type": "code",
   "execution_count": 23,
   "id": "00a9370e",
   "metadata": {},
   "outputs": [
    {
     "name": "stdout",
     "output_type": "stream",
     "text": [
      "55\n"
     ]
    }
   ],
   "source": [
    "#q10\n",
    "a=[1,2,3,4,5,6,7,8,9,10]\n",
    "print(sum(a));"
   ]
  },
  {
   "cell_type": "code",
   "execution_count": 32,
   "id": "dc5cb014",
   "metadata": {},
   "outputs": [
    {
     "name": "stdout",
     "output_type": "stream",
     "text": [
      "17\n"
     ]
    }
   ],
   "source": [
    "#q11\n",
    "a=[1,2,3,4,5,6,7,17,9,10]\n",
    "max=a[0];\n",
    "for b in a:\n",
    "        if b > max:\n",
    "            max=b;\n",
    "        \n",
    "print(max);"
   ]
  },
  {
   "cell_type": "code",
   "execution_count": 33,
   "id": "a6a285c2",
   "metadata": {},
   "outputs": [
    {
     "name": "stdout",
     "output_type": "stream",
     "text": [
      "1\n",
      "1\n",
      "2\n",
      "3\n"
     ]
    }
   ],
   "source": [
    "a = [1, 1, 2, 3, 5, 8, 13, 21, 34, 55, 89]\n",
    "for b in a:\n",
    "    if b<5:\n",
    "        print(b);"
   ]
  },
  {
   "cell_type": "code",
   "execution_count": null,
   "id": "6a204455",
   "metadata": {},
   "outputs": [],
   "source": []
  }
 ],
 "metadata": {
  "kernelspec": {
   "display_name": "Python 3",
   "language": "python",
   "name": "python3"
  },
  "language_info": {
   "codemirror_mode": {
    "name": "ipython",
    "version": 3
   },
   "file_extension": ".py",
   "mimetype": "text/x-python",
   "name": "python",
   "nbconvert_exporter": "python",
   "pygments_lexer": "ipython3",
   "version": "3.8.8"
  }
 },
 "nbformat": 4,
 "nbformat_minor": 5
}
